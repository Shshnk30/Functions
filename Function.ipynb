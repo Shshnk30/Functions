{
  "nbformat": 4,
  "nbformat_minor": 0,
  "metadata": {
    "colab": {
      "provenance": []
    },
    "kernelspec": {
      "name": "python3",
      "display_name": "Python 3"
    },
    "language_info": {
      "name": "python"
    }
  },
  "cells": [
    {
      "cell_type": "code",
      "execution_count": 1,
      "metadata": {
        "colab": {
          "base_uri": "https://localhost:8080/"
        },
        "id": "2dkFgXy_KRj-",
        "outputId": "8395d645-1161-442a-9b3f-e66a86b3425b"
      },
      "outputs": [
        {
          "output_type": "stream",
          "name": "stdout",
          "text": [
            "70\n"
          ]
        }
      ],
      "source": [
        "#Ans-1\n",
        "\n",
        "def sum_of_evens(numbers):\n",
        "    # Use a list comprehension to filter and sum even numbers\n",
        "    return sum(num for num in numbers if num % 2 == 0)\n",
        "\n",
        "# Example usage\n",
        "numbers = [47, 11, 42, 13, 8, 20]\n",
        "result = sum_of_evens(numbers)\n",
        "print(result)  # Output: 70 (42 + 8 + 20)\n",
        "\n",
        "#Explanation\n",
        "#The function sum_of_evens iterates through the list numbers.\n",
        "#It checks if each number is even (num % 2 == 0).\n",
        "#The sum() function adds up all the even numbers found.\n"
      ]
    },
    {
      "cell_type": "code",
      "source": [
        "#Ans-2\n",
        "\n",
        "def reverse_string(s):\n",
        "    return s[::-1]\n",
        "\n",
        "# Example usage\n",
        "input_string = \"Hello, World!\"\n",
        "result = reverse_string(input_string)\n",
        "print(result)  # Output: \"!dlroW ,olleH\"\n",
        "\n",
        "#Explanation\n",
        "#The function reverse_string takes a string s as input.\n",
        "#It uses slicing (s[::-1]) to reverse the string.\n",
        "#The reversed string is returned."
      ],
      "metadata": {
        "colab": {
          "base_uri": "https://localhost:8080/"
        },
        "id": "j1wRPHtvK1H2",
        "outputId": "0a4422e4-eca5-4946-8504-b5d22138820a"
      },
      "execution_count": 3,
      "outputs": [
        {
          "output_type": "stream",
          "name": "stdout",
          "text": [
            "!dlroW ,olleH\n"
          ]
        }
      ]
    },
    {
      "cell_type": "code",
      "source": [
        "#Ans-3\n",
        "\n",
        "def square_numbers(numbers):\n",
        "    # Use a list comprehension to square each number\n",
        "    return [num ** 2 for num in numbers]\n",
        "\n",
        "# Example usage\n",
        "input_list = [1, 2, 3, 4, 5]\n",
        "result = square_numbers(input_list)\n",
        "print(result)  # Output: [1, 4, 9, 16, 25]\n",
        "\n",
        "#Explanation\n",
        "#The function square_numbers takes a list of integers numbers as input.\n",
        "#It uses a list comprehension to iterate through each number and calculate its square (num ** 2).\n",
        "#The new list of squared numbers is returned."
      ],
      "metadata": {
        "colab": {
          "base_uri": "https://localhost:8080/"
        },
        "id": "XxBZODNRLBMY",
        "outputId": "04ca5465-0460-4e32-be1f-f9d9fa236441"
      },
      "execution_count": 4,
      "outputs": [
        {
          "output_type": "stream",
          "name": "stdout",
          "text": [
            "[1, 4, 9, 16, 25]\n"
          ]
        }
      ]
    },
    {
      "cell_type": "code",
      "source": [
        "#Ans-4\n",
        "def is_prime(n):\n",
        "    if n <= 1:\n",
        "        return False\n",
        "    for i in range(2, int(n**0.5) + 1):\n",
        "        if n % i == 0:\n",
        "            return False\n",
        "    return True\n",
        "\n",
        "# Example usage\n",
        "for number in range(1, 201):\n",
        "    if is_prime(number):\n",
        "        print(f\"{number} is a prime number.\")\n",
        "\n",
        "\n",
        "#Explanation\n",
        "#The function is_prime checks if a number n is prime:\n",
        "#It first returns False for numbers less than or equal to 1.\n",
        "#It then checks for factors from 2 to the square root of n. If any factor divides n evenly, it returns False.\n",
        "#If no factors are found, it returns True, indicating that n is prime.\n",
        "#The example usage iterates through numbers from 1 to 200, printing those that are prime.\n",
        "\n"
      ],
      "metadata": {
        "colab": {
          "base_uri": "https://localhost:8080/"
        },
        "id": "z2neVnfXLaps",
        "outputId": "47d8d9e3-2324-48ea-eb81-84ebfd1f673c"
      },
      "execution_count": 6,
      "outputs": [
        {
          "output_type": "stream",
          "name": "stdout",
          "text": [
            "2 is a prime number.\n",
            "3 is a prime number.\n",
            "5 is a prime number.\n",
            "7 is a prime number.\n",
            "11 is a prime number.\n",
            "13 is a prime number.\n",
            "17 is a prime number.\n",
            "19 is a prime number.\n",
            "23 is a prime number.\n",
            "29 is a prime number.\n",
            "31 is a prime number.\n",
            "37 is a prime number.\n",
            "41 is a prime number.\n",
            "43 is a prime number.\n",
            "47 is a prime number.\n",
            "53 is a prime number.\n",
            "59 is a prime number.\n",
            "61 is a prime number.\n",
            "67 is a prime number.\n",
            "71 is a prime number.\n",
            "73 is a prime number.\n",
            "79 is a prime number.\n",
            "83 is a prime number.\n",
            "89 is a prime number.\n",
            "97 is a prime number.\n",
            "101 is a prime number.\n",
            "103 is a prime number.\n",
            "107 is a prime number.\n",
            "109 is a prime number.\n",
            "113 is a prime number.\n",
            "127 is a prime number.\n",
            "131 is a prime number.\n",
            "137 is a prime number.\n",
            "139 is a prime number.\n",
            "149 is a prime number.\n",
            "151 is a prime number.\n",
            "157 is a prime number.\n",
            "163 is a prime number.\n",
            "167 is a prime number.\n",
            "173 is a prime number.\n",
            "179 is a prime number.\n",
            "181 is a prime number.\n",
            "191 is a prime number.\n",
            "193 is a prime number.\n",
            "197 is a prime number.\n",
            "199 is a prime number.\n"
          ]
        }
      ]
    },
    {
      "cell_type": "code",
      "source": [
        "#Ans-5\n",
        "\n",
        "class FibonacciIterator:\n",
        "    def __init__(self, terms):\n",
        "        self.terms = terms\n",
        "        self.current = 0\n",
        "        self.next = 1\n",
        "        self.count = 0\n",
        "\n",
        "    def __iter__(self):\n",
        "        return self\n",
        "\n",
        "    def __next__(self):\n",
        "        if self.count < self.terms:\n",
        "            value = self.current\n",
        "            self.current, self.next = self.next, self.current + self.next\n",
        "            self.count += 1\n",
        "            return value\n",
        "        else:\n",
        "            raise StopIteration\n",
        "\n",
        "# Example usage\n",
        "fibonacci = FibonacciIterator(10)\n",
        "for num in fibonacci:\n",
        "    print(num)\n"
      ],
      "metadata": {
        "colab": {
          "base_uri": "https://localhost:8080/"
        },
        "id": "y3J01NUrLszL",
        "outputId": "08de3cdc-a150-4fb3-db22-adafae4041e8"
      },
      "execution_count": 7,
      "outputs": [
        {
          "output_type": "stream",
          "name": "stdout",
          "text": [
            "0\n",
            "1\n",
            "1\n",
            "2\n",
            "3\n",
            "5\n",
            "8\n",
            "13\n",
            "21\n",
            "34\n"
          ]
        }
      ]
    },
    {
      "cell_type": "code",
      "source": [
        "#Ans-6\n",
        "\n",
        "def powers_of_two(exponent):\n",
        "    for i in range(exponent + 1):\n",
        "        yield 2 ** i\n",
        "\n",
        "# Example usage\n",
        "for power in powers_of_two(5):\n",
        "    print(power)\n",
        "\n",
        "#Explanation\n",
        "#Function Definition: The function powers_of_two takes an integer exponent as input.\n",
        "#Yielding Values: It uses a for loop to iterate from 0 to exponent (inclusive) and yields 2 ** i for each iteration.\n",
        "#Usage: You can call this generator in a for loop to print the powers of 2."
      ],
      "metadata": {
        "colab": {
          "base_uri": "https://localhost:8080/"
        },
        "id": "StXs0ZmGMFEF",
        "outputId": "ae9ecb74-4c16-4a28-e139-4072523b85bb"
      },
      "execution_count": 8,
      "outputs": [
        {
          "output_type": "stream",
          "name": "stdout",
          "text": [
            "1\n",
            "2\n",
            "4\n",
            "8\n",
            "16\n",
            "32\n"
          ]
        }
      ]
    },
    {
      "cell_type": "code",
      "source": [
        "def read_file_line_by_line(file_path):\n",
        "    with open(file_path, 'r') as file:\n",
        "        for line in file:\n",
        "            yield line.strip()  # Strip newline characters\n",
        "\n",
        "# Example usage\n",
        "#file_path = '/'  # Replace with your file path\n",
        "#for line in read_file_line_by_line(file_path):\n",
        "    #print(line)\n",
        "\n",
        "#Explanation\n",
        "#Function Definition: The read_file_line_by_line function takes a file path as input.\n",
        "#Opening the File: It uses a with statement to open the file, ensuring it gets properly closed afterward.\n",
        "#Yielding Lines: It iterates through each line in the file, stripping any leading/trailing whitespace (like newline characters) before yielding it.\n",
        "#Usage: You can call this generator in a for loop to process each line from the file.\n",
        "\n",
        "#Note\n",
        "#Make sure to replace 'example.txt' with the path to your actual file when using the function. This function allows you to efficiently read large files without loading the entire content into memory at once."
      ],
      "metadata": {
        "id": "osY9d_7fMdGY"
      },
      "execution_count": 11,
      "outputs": []
    },
    {
      "cell_type": "code",
      "source": [
        "#Ans-8\n",
        "\n",
        "# Sample list of tuples\n",
        "data = [(1, 'one'), (3, 'three'), (2, 'two')]\n",
        "\n",
        "# Sorting the list of tuples by the second element\n",
        "sorted_data = sorted(data, key=lambda x: x[1])\n",
        "\n",
        "# Example output\n",
        "print(sorted_data)\n",
        "\n",
        "#Explanation\n",
        "#List of Tuples: The list data contains tuples where each tuple has an integer and a string.\n",
        "#Sorting: The sorted() function is called with a key argument that specifies a lambda function. The lambda function lambda x: x[1] retrieves the second element of each tuple for sorting.\n",
        "#Result: The sorted list is stored in sorted_data.\n"
      ],
      "metadata": {
        "colab": {
          "base_uri": "https://localhost:8080/"
        },
        "id": "SOMRzMEBMyV-",
        "outputId": "6186dc87-a757-44b7-922a-a426fc53d79a"
      },
      "execution_count": 13,
      "outputs": [
        {
          "output_type": "stream",
          "name": "stdout",
          "text": [
            "[(1, 'one'), (3, 'three'), (2, 'two')]\n"
          ]
        }
      ]
    },
    {
      "cell_type": "code",
      "source": [
        "#Ans-9\n",
        "\n",
        "# Function to convert Celsius to Fahrenheit\n",
        "def celsius_to_fahrenheit(celsius):\n",
        "    return (celsius * 9/5) + 32\n",
        "\n",
        "# List of temperatures in Celsius\n",
        "celsius_temperatures = [0, 20, 37, 100]\n",
        "\n",
        "# Using map() to convert Celsius to Fahrenheit\n",
        "fahrenheit_temperatures = list(map(celsius_to_fahrenheit, celsius_temperatures))\n",
        "\n",
        "# Example output\n",
        "print(fahrenheit_temperatures)\n",
        "\n",
        "#Explanation\n",
        "#Conversion Function: The function celsius_to_fahrenheit converts a temperature from Celsius to Fahrenheit using the formula (C * 9/5) + 32.\n",
        "#List of Temperatures: celsius_temperatures contains temperatures in Celsius.\n",
        "#Using map(): The map() function applies celsius_to_fahrenheit to each item in celsius_temperatures, returning an iterator. We convert this iterator to a list.\n",
        "#Output: The converted temperatures in Fahrenheit are printed.\n",
        "\n",
        "\n"
      ],
      "metadata": {
        "colab": {
          "base_uri": "https://localhost:8080/"
        },
        "id": "W_m2yP8iNHdB",
        "outputId": "eea2c8c2-2329-4cc5-a805-acd918005ecb"
      },
      "execution_count": 16,
      "outputs": [
        {
          "output_type": "stream",
          "name": "stdout",
          "text": [
            "[32.0, 68.0, 98.6, 212.0]\n"
          ]
        }
      ]
    },
    {
      "cell_type": "code",
      "source": [
        "#Ans-10\n",
        "\n",
        "def remove_vowels(input_string):\n",
        "    vowels = 'aeiouAEIOU'\n",
        "    # Use filter to exclude vowels\n",
        "    filtered_chars = filter(lambda x: x not in vowels, input_string)\n",
        "    return ''.join(filtered_chars)\n",
        "\n",
        "# Example usage\n",
        "input_string = \"Hello, World!\"\n",
        "result = remove_vowels(input_string)\n",
        "print(result)  # Output: \"Hll, Wrld!\"\n",
        "\n",
        "#Explanation\n",
        "#Function Definition: The function remove_vowels takes an input string.\n",
        "#Vowel Definition: A string vowels contains all the vowels (both lowercase and uppercase).\n",
        "#Using filter(): The filter() function uses a lambda function to keep only characters that are not in the vowels string.\n",
        "#Joining Characters: The resulting filtered characters are joined back into a single string using ''.join().\n",
        "#Output: The string with all vowels removed is printed.\n"
      ],
      "metadata": {
        "colab": {
          "base_uri": "https://localhost:8080/"
        },
        "id": "By4LQXoBNZim",
        "outputId": "963f766b-a846-4cc0-d314-a2674f154538"
      },
      "execution_count": 18,
      "outputs": [
        {
          "output_type": "stream",
          "name": "stdout",
          "text": [
            "Hll, Wrld!\n"
          ]
        }
      ]
    },
    {
      "cell_type": "code",
      "source": [
        "#Ans-11\n",
        "\n",
        "# List of orders in the format: [Order Number, Book Title and Author, Quantity, Price per Item]\n",
        "orders = [\n",
        "    [34587, \"Learning Python, Mark Lutz\", 4, 40.95],\n",
        "    [98762, \"Programming Python, Mark Lutz\", 5, 56.80],\n",
        "    [77226, \"Head First Python, Paul Barry\", 3, 32.95],\n",
        "    [88112, \"Einführung in Python3, Bernd Klein\", 3, 24.99]\n",
        "]\n",
        "\n",
        "# Function to calculate total and adjust if below 100 €\n",
        "result = list(map(lambda order: (order[0], order[2] * order[3] + (10 if order[2] * order[3] < 100 else 0)), orders))\n",
        "\n",
        "# Output the result\n",
        "print(result)\n",
        "\n",
        "\n",
        "\n",
        "\n"
      ],
      "metadata": {
        "colab": {
          "base_uri": "https://localhost:8080/"
        },
        "id": "NbGSrIGSNumD",
        "outputId": "eb078548-edef-4de3-e399-8b3c70d78027"
      },
      "execution_count": 19,
      "outputs": [
        {
          "output_type": "stream",
          "name": "stdout",
          "text": [
            "[(34587, 163.8), (98762, 284.0), (77226, 108.85000000000001), (88112, 84.97)]\n"
          ]
        }
      ]
    },
    {
      "cell_type": "code",
      "source": [],
      "metadata": {
        "id": "64HQmymPONck"
      },
      "execution_count": null,
      "outputs": []
    }
  ]
}